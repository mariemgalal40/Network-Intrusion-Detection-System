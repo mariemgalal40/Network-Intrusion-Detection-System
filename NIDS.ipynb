{
  "nbformat": 4,
  "nbformat_minor": 0,
  "metadata": {
    "colab": {
      "provenance": []
    },
    "kernelspec": {
      "name": "python3",
      "display_name": "Python 3"
    },
    "language_info": {
      "name": "python"
    }
  },
  "cells": [
    {
      "cell_type": "code",
      "execution_count": null,
      "metadata": {
        "id": "oNMu2HEsCmeO"
      },
      "outputs": [],
      "source": [
        "import pandas as pd\n",
        "import numpy as np\n",
        "from imblearn.over_sampling import SMOTE\n",
        "from catboost import CatBoostClassifier\n",
        "from sklearn.preprocessing import LabelEncoder\n",
        "\n",
        "train_data = pd.read_csv('traindata.csv')\n",
        "test_data = pd.read_csv('testdata.csv')\n",
        "id = test_data[\"ID\"]\n",
        "\n",
        "labelencoders = {}\n",
        "def labelenc(data):\n",
        "    for col in data.columns:\n",
        "        if data[col].dtype == 'object':\n",
        "            label_encoder = LabelEncoder()\n",
        "            data[col] = label_encoder.fit_transform(data[col])\n",
        "            labelencoders[col] = label_encoder\n",
        "\n",
        "labelenc(train_data)\n",
        "\n",
        "for col in test_data.columns:\n",
        "    if test_data[col].dtype == 'object':\n",
        "        labelencoder = labelencoders[col]\n",
        "        test_data[col] = test_data[col].apply(lambda value: labelencoder.transform([value])[0] if value in labelencoder.classes_ else -1)\n",
        "\n",
        "\n",
        "X_train = train_data.drop('Class', axis=1)\n",
        "y_train = train_data['Class']\n",
        "X_train.drop(\"ID\", axis=1, inplace=True)\n",
        "test_data.drop(\"ID\", axis=1, inplace=True)\n",
        "\n",
        "X_train.replace([np.inf, -np.inf], np.nan, inplace=True)\n",
        "X_train.fillna(0, inplace=True)\n",
        "test_data.replace([np.inf, -np.inf], np.nan, inplace=True)\n",
        "test_data.fillna(0, inplace=True)\n",
        "\n",
        "smote = SMOTE(random_state=42)\n",
        "X_train_resampled, y_train_resampled = smote.fit_resample(X_train, y_train)\n",
        "\n",
        "catboost_classifier = CatBoostClassifier( iterations=109, depth=6, learning_rate=0.009)\n",
        "catboost_classifier.fit(X_train_resampled, y_train_resampled)\n",
        "\n",
        "y_pred_prob = catboost_classifier.predict_proba(test_data)[:, 1]\n",
        "threshold = .3\n",
        "y_pred = (y_pred_prob > threshold).astype(int)\n",
        "\n",
        "results = pd.DataFrame({'ID': id, 'Class': y_pred})\n",
        "\n",
        "results.to_csv('results2.csv', index=False)"
      ]
    }
  ]
}